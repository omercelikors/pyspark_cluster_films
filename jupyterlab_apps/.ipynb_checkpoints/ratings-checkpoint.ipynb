{
 "cells": [
  {
   "cell_type": "code",
   "execution_count": 1,
   "id": "98c44a65",
   "metadata": {},
   "outputs": [
    {
     "name": "stderr",
     "output_type": "stream",
     "text": [
      "22/05/16 05:41:07 WARN NativeCodeLoader: Unable to load native-hadoop library for your platform... using builtin-java classes where applicable\n",
      "Using Spark's default log4j profile: org/apache/spark/log4j-defaults.properties\n",
      "Setting default log level to \"WARN\".\n",
      "To adjust logging level use sc.setLogLevel(newLevel). For SparkR, use setLogLevel(newLevel).\n"
     ]
    }
   ],
   "source": [
    "from pyspark.sql import SparkSession\n",
    "from pyspark.sql.functions import col, asc, desc, udf, from_unixtime, count\n",
    "from datetime import datetime\n",
    "from pyspark.sql.types import IntegerType, DateType\n",
    "\n",
    "spark = SparkSession.\\\n",
    "        builder.\\\n",
    "        appName(\"dataframe\").\\\n",
    "        master(\"spark://spark-master:7077\").\\\n",
    "        config(\"spark.executor.memory\", \"512m\").\\\n",
    "        config(\"spark.jars\", \"/opt/data/sqlite-jdbc-3.36.0.3.jar\").\\\n",
    "        getOrCreate()"
   ]
  },
  {
   "cell_type": "code",
   "execution_count": 2,
   "id": "ee45adc2",
   "metadata": {},
   "outputs": [],
   "source": [
    "ratings_df = spark.read.format(\"jdbc\").\\\n",
    "    option(\"url\", \"jdbc:sqlite:/opt/data/movielens-small.db\").\\\n",
    "    option(\"driver\", \"org.sqlite.JDBC\").\\\n",
    "    option(\"dbtable\", \"ratings\").\\\n",
    "    load()"
   ]
  },
  {
   "cell_type": "code",
   "execution_count": 3,
   "id": "aac86091",
   "metadata": {},
   "outputs": [],
   "source": [
    "def convert_to_week_number(timestamp):\n",
    "    date_object = datetime.fromtimestamp(timestamp)\n",
    "\n",
    "    return date_object.isocalendar()[1]"
   ]
  },
  {
   "cell_type": "code",
   "execution_count": 4,
   "id": "59258892",
   "metadata": {},
   "outputs": [],
   "source": [
    "convertUDF = udf(lambda z: convert_to_week_number(z), IntegerType())"
   ]
  },
  {
   "cell_type": "code",
   "execution_count": 5,
   "id": "a7678d31",
   "metadata": {},
   "outputs": [],
   "source": [
    "ratings_df = ratings_df.withColumn('week_number', convertUDF(ratings_df.timestamp))"
   ]
  },
  {
   "cell_type": "code",
   "execution_count": 9,
   "id": "9eb5975b",
   "metadata": {},
   "outputs": [
    {
     "name": "stderr",
     "output_type": "stream",
     "text": [
      "[Stage 15:========================================>             (149 + 2) / 200]\r"
     ]
    },
    {
     "name": "stdout",
     "output_type": "stream",
     "text": [
      "+-----------+------+-----+\n",
      "|week_number|userId|count|\n",
      "+-----------+------+-----+\n",
      "|         43|   384| 1113|\n",
      "|          4|   176|  972|\n",
      "|         28|   614|  830|\n",
      "|         34|   330|  711|\n",
      "|         51|   202|  676|\n",
      "+-----------+------+-----+\n",
      "only showing top 5 rows\n",
      "\n"
     ]
    },
    {
     "name": "stderr",
     "output_type": "stream",
     "text": [
      "                                                                                \r"
     ]
    }
   ],
   "source": [
    "grouped_ratings_df = ratings_df.groupBy(\"week_number\", \"userId\").count().sort(desc(\"count\")).show(5)"
   ]
  },
  {
   "cell_type": "code",
   "execution_count": null,
   "id": "ee894ab4",
   "metadata": {},
   "outputs": [],
   "source": []
  }
 ],
 "metadata": {
  "kernelspec": {
   "display_name": "Python 3 (ipykernel)",
   "language": "python",
   "name": "python3"
  },
  "language_info": {
   "codemirror_mode": {
    "name": "ipython",
    "version": 3
   },
   "file_extension": ".py",
   "mimetype": "text/x-python",
   "name": "python",
   "nbconvert_exporter": "python",
   "pygments_lexer": "ipython3",
   "version": "3.9.2"
  }
 },
 "nbformat": 4,
 "nbformat_minor": 5
}
