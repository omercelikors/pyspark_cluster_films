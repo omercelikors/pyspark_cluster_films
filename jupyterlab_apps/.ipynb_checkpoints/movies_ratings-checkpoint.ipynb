{
 "cells": [
  {
   "cell_type": "code",
   "execution_count": null,
   "id": "8fb6da9c",
   "metadata": {},
   "outputs": [],
   "source": [
    "from pyspark.sql import SparkSession\n",
    "from pyspark.sql.types import IntegerType\n",
    "from pyspark.sql.functions import col, asc, desc\n",
    "\n",
    "spark = SparkSession.\\\n",
    "        builder.\\\n",
    "        appName(\"dataframe\").\\\n",
    "        master(\"spark://spark-master:7077\").\\\n",
    "        config(\"spark.executor.memory\", \"512m\").\\\n",
    "        config(\"spark.jars\", \"/opt/data/sqlite-jdbc-3.36.0.3.jar\").\\\n",
    "        getOrCreate()"
   ]
  },
  {
   "cell_type": "code",
   "execution_count": null,
   "id": "70a067de",
   "metadata": {},
   "outputs": [],
   "source": [
    "movies_df = spark.read.format(\"jdbc\").\\\n",
    "    option(\"url\", \"jdbc:sqlite:/opt/data/movielens-small.db\").\\\n",
    "    option(\"driver\", \"org.sqlite.JDBC\").\\\n",
    "    option(\"dbtable\", \"movies\").\\\n",
    "    load()"
   ]
  },
  {
   "cell_type": "code",
   "execution_count": null,
   "id": "e228b3e5",
   "metadata": {},
   "outputs": [],
   "source": [
    "ratings_df = spark.read.format(\"jdbc\").\\\n",
    "    option(\"url\", \"jdbc:sqlite:/opt/data/movielens-small.db\").\\\n",
    "    option(\"driver\", \"org.sqlite.JDBC\").\\\n",
    "    option(\"dbtable\", \"ratings\").\\\n",
    "    load()"
   ]
  },
  {
   "cell_type": "code",
   "execution_count": null,
   "id": "d4839aa1",
   "metadata": {},
   "outputs": [],
   "source": [
    "movies_ratings_df = movies_df.join(ratings_df,movies_df.movieId ==  ratings_df.movieId, \"inner\")"
   ]
  },
  {
   "cell_type": "code",
   "execution_count": null,
   "id": "f5e2822e",
   "metadata": {},
   "outputs": [],
   "source": [
    "movies_ratings_df.groupBy(ratings_df.movieId).sum('rating').sort(col(\"sum(rating)\").desc()).limit(5).show()"
   ]
  },
  {
   "cell_type": "code",
   "execution_count": null,
   "id": "49e13de1",
   "metadata": {},
   "outputs": [],
   "source": [
    "movies_ratings_df.groupBy(movies_df.genres).sum('rating').sort(col(\"sum(rating)\").desc()).limit(5).show()"
   ]
  }
 ],
 "metadata": {
  "kernelspec": {
   "display_name": "Python 3 (ipykernel)",
   "language": "python",
   "name": "python3"
  },
  "language_info": {
   "codemirror_mode": {
    "name": "ipython",
    "version": 3
   },
   "file_extension": ".py",
   "mimetype": "text/x-python",
   "name": "python",
   "nbconvert_exporter": "python",
   "pygments_lexer": "ipython3",
   "version": "3.9.2"
  }
 },
 "nbformat": 4,
 "nbformat_minor": 5
}
