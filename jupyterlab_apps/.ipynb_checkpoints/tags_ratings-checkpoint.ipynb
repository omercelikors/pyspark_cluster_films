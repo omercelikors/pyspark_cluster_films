{
 "cells": [
  {
   "cell_type": "code",
   "execution_count": null,
   "id": "ef47a13d",
   "metadata": {},
   "outputs": [],
   "source": [
    "from pyspark.sql import SparkSession\n",
    "from pyspark.sql.types import IntegerType\n",
    "from pyspark.sql.functions import col, asc, desc\n",
    "\n",
    "spark = SparkSession.\\\n",
    "        builder.\\\n",
    "        appName(\"dataframe\").\\\n",
    "        master(\"spark://spark-master:7077\").\\\n",
    "        config(\"spark.executor.memory\", \"512m\").\\\n",
    "        config(\"spark.jars\", \"/opt/data/sqlite-jdbc-3.36.0.3.jar\").\\\n",
    "        getOrCreate()"
   ]
  },
  {
   "cell_type": "code",
   "execution_count": null,
   "id": "31c06616",
   "metadata": {},
   "outputs": [],
   "source": [
    "tags_df = spark.read.format(\"jdbc\").\\\n",
    "    option(\"url\", \"jdbc:sqlite:/opt/data/movielens-small.db\").\\\n",
    "    option(\"driver\", \"org.sqlite.JDBC\").\\\n",
    "    option(\"dbtable\", \"tags\").\\\n",
    "    load()"
   ]
  },
  {
   "cell_type": "code",
   "execution_count": null,
   "id": "7e178a69",
   "metadata": {},
   "outputs": [],
   "source": [
    "tags_ratings_df = tags_df.join(ratings_df, (tags_df.userId == ratings_df.userId) & (tags_df.movieId == ratings_df.movieId), \"inner\")"
   ]
  },
  {
   "cell_type": "code",
   "execution_count": null,
   "id": "c0ce8862",
   "metadata": {},
   "outputs": [],
   "source": [
    "tags_ratings_df.groupBy(tags_df.tag).sum('rating').sort(col(\"sum(rating)\").desc()).limit(5).show()"
   ]
  }
 ],
 "metadata": {
  "kernelspec": {
   "display_name": "Python 3 (ipykernel)",
   "language": "python",
   "name": "python3"
  },
  "language_info": {
   "codemirror_mode": {
    "name": "ipython",
    "version": 3
   },
   "file_extension": ".py",
   "mimetype": "text/x-python",
   "name": "python",
   "nbconvert_exporter": "python",
   "pygments_lexer": "ipython3",
   "version": "3.9.2"
  }
 },
 "nbformat": 4,
 "nbformat_minor": 5
}
