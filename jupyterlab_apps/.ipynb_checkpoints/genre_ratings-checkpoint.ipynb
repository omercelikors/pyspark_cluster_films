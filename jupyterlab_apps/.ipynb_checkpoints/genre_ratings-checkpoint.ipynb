{
 "cells": [
  {
   "cell_type": "code",
   "execution_count": 1,
   "id": "b61572ab",
   "metadata": {},
   "outputs": [
    {
     "name": "stderr",
     "output_type": "stream",
     "text": [
      "22/05/19 08:02:00 WARN NativeCodeLoader: Unable to load native-hadoop library for your platform... using builtin-java classes where applicable\n",
      "Using Spark's default log4j profile: org/apache/spark/log4j-defaults.properties\n",
      "Setting default log level to \"WARN\".\n",
      "To adjust logging level use sc.setLogLevel(newLevel). For SparkR, use setLogLevel(newLevel).\n"
     ]
    }
   ],
   "source": [
    "from pyspark.sql import SparkSession\n",
    "from pyspark.sql.functions import col, asc, desc, udf, from_unixtime, count\n",
    "from datetime import datetime\n",
    "from pyspark.sql.types import IntegerType, DateType\n",
    "import matplotlib.pyplot as plt\n",
    "\n",
    "spark = SparkSession.\\\n",
    "        builder.\\\n",
    "        appName(\"dataframe\").\\\n",
    "        master(\"spark://spark-master:7077\").\\\n",
    "        config(\"spark.executor.memory\", \"512m\").\\\n",
    "        config(\"spark.jars\", \"/opt/data/sqlite-jdbc-3.36.0.3.jar\").\\\n",
    "        getOrCreate()"
   ]
  },
  {
   "cell_type": "code",
   "execution_count": 2,
   "id": "77edeb4c",
   "metadata": {},
   "outputs": [],
   "source": [
    "ratings_df = spark.read.format(\"jdbc\").\\\n",
    "    option(\"url\", \"jdbc:sqlite:/opt/data/movielens-small.db\").\\\n",
    "    option(\"driver\", \"org.sqlite.JDBC\").\\\n",
    "    option(\"dbtable\", \"ratings\").\\\n",
    "    load()"
   ]
  },
  {
   "cell_type": "code",
   "execution_count": 3,
   "id": "1e1f90a0",
   "metadata": {},
   "outputs": [],
   "source": [
    "movies_df = spark.read.format(\"jdbc\").\\\n",
    "    option(\"url\", \"jdbc:sqlite:/opt/data/movielens-small.db\").\\\n",
    "    option(\"driver\", \"org.sqlite.JDBC\").\\\n",
    "    option(\"dbtable\", \"movies\").\\\n",
    "    load()"
   ]
  },
  {
   "cell_type": "code",
   "execution_count": 4,
   "id": "878f4e20",
   "metadata": {},
   "outputs": [],
   "source": [
    "movies_ratings_df = movies_df.join(ratings_df, movies_df.movieId ==  ratings_df.movieId, \"inner\")"
   ]
  },
  {
   "cell_type": "code",
   "execution_count": 5,
   "id": "b0c66b1c",
   "metadata": {},
   "outputs": [],
   "source": [
    "avg_genres_ratings_df = movies_ratings_df.groupBy(\"genres\").avg(\"rating\")"
   ]
  },
  {
   "cell_type": "code",
   "execution_count": 6,
   "id": "92a363e4",
   "metadata": {},
   "outputs": [],
   "source": [
    "top_10_avg_genres_ratings_df = avg_genres_ratings_df.sort(desc(\"avg(rating)\")).limit(10)"
   ]
  },
  {
   "cell_type": "code",
   "execution_count": 11,
   "id": "81aef68c",
   "metadata": {},
   "outputs": [
    {
     "name": "stderr",
     "output_type": "stream",
     "text": [
      "[Stage 18:=====================================================>(199 + 1) / 200]\r"
     ]
    },
    {
     "name": "stdout",
     "output_type": "stream",
     "text": [
      "+--------------------+-----------+\n",
      "|              genres|avg(rating)|\n",
      "+--------------------+-----------+\n",
      "|Action|Adventure|...|        5.0|\n",
      "|Crime|Documentary...|        5.0|\n",
      "|Adventure|Fantasy...|        5.0|\n",
      "|Animation|Documen...|        5.0|\n",
      "|Crime|Horror|Mystery|       4.75|\n",
      "|Comedy|Crime|Western|        4.5|\n",
      "|Animation|Comedy|...|        4.5|\n",
      "|Adventure|Comedy|...|        4.5|\n",
      "|Action|Animation|...|        4.5|\n",
      "|Action|Animation|...|        4.5|\n",
      "+--------------------+-----------+\n",
      "\n"
     ]
    },
    {
     "name": "stderr",
     "output_type": "stream",
     "text": [
      "                                                                                \r"
     ]
    }
   ],
   "source": [
    "top_10_avg_genres_ratings_df.show()"
   ]
  },
  {
   "cell_type": "code",
   "execution_count": 7,
   "id": "dfdc9586",
   "metadata": {},
   "outputs": [],
   "source": [
    "top_10_avg_genres_ratings_rdd = top_10_avg_genres_ratings_df.rdd"
   ]
  },
  {
   "cell_type": "code",
   "execution_count": 14,
   "id": "a6165874",
   "metadata": {},
   "outputs": [
    {
     "name": "stdout",
     "output_type": "stream",
     "text": [
      "Row(genres='Action|Adventure|Animation|Comedy|Fantasy|Mystery|Sci-Fi', avg(rating)=5.0)\n",
      "Row(genres='Crime|Documentary|War', avg(rating)=5.0)\n",
      "Row(genres='Adventure|Fantasy|Mystery', avg(rating)=5.0)\n",
      "Row(genres='Animation|Documentary', avg(rating)=5.0)\n",
      "Row(genres='Crime|Horror|Mystery', avg(rating)=4.75)\n",
      "Row(genres='Comedy|Crime|Western', avg(rating)=4.5)\n",
      "Row(genres='Animation|Comedy|Horror|IMAX', avg(rating)=4.5)\n",
      "Row(genres='Adventure|Comedy|Fantasy|Musical', avg(rating)=4.5)\n",
      "Row(genres='Action|Animation|Crime|Sci-Fi|Thriller', avg(rating)=4.5)\n",
      "Row(genres='Action|Animation|Drama|Fantasy|Sci-Fi', avg(rating)=4.5)\n"
     ]
    }
   ],
   "source": [
    "for row in top_10_avg_genres_ratings_rdd.collect():\n",
    "      print(row)"
   ]
  },
  {
   "cell_type": "code",
   "execution_count": 15,
   "id": "fa7d7692",
   "metadata": {},
   "outputs": [
    {
     "data": {
      "image/png": "[encoded data removed]",
      "text/plain": [
       "<Figure size 432x288 with 1 Axes>"
      ]
     },
     "metadata": {
      "needs_background": "light"
     },
     "output_type": "display_data"
    }
   ],
   "source": [
    "n, bins, patches = plt.hist(top_10_avg_genres_ratings_rdd.collect())"
   ]
  },
  {
   "cell_type": "code",
   "execution_count": null,
   "id": "759e7945",
   "metadata": {},
   "outputs": [],
   "source": []
  }
 ],
 "metadata": {
  "kernelspec": {
   "display_name": "Python 3 (ipykernel)",
   "language": "python",
   "name": "python3"
  },
  "language_info": {
   "codemirror_mode": {
    "name": "ipython",
    "version": 3
   },
   "file_extension": ".py",
   "mimetype": "text/x-python",
   "name": "python",
   "nbconvert_exporter": "python",
   "pygments_lexer": "ipython3",
   "version": "3.9.2"
  }
 },
 "nbformat": 4,
 "nbformat_minor": 5
}
